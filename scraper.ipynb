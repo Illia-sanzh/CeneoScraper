{
 "cells": [
  {
   "cell_type": "markdown",
   "metadata": {},
   "source": [
    "1. Access the first page of the product using requests"
   ]
  },
  {
   "cell_type": "code",
   "execution_count": 13,
   "metadata": {},
   "outputs": [],
   "source": [
    "import requests\n",
    "from bs4 import BeautifulSoup\n",
    "import json\n",
    "import os"
   ]
  },
  {
   "cell_type": "markdown",
   "metadata": {},
   "source": [
    "### Extraction start here "
   ]
  },
  {
   "cell_type": "code",
   "execution_count": null,
   "metadata": {},
   "outputs": [],
   "source": [
    "with open(\"./cookie.json\", 'r') as f:\n",
    "    headers = json.load(f)"
   ]
  },
  {
   "cell_type": "code",
   "execution_count": 15,
   "metadata": {},
   "outputs": [],
   "source": [
    "product_id = '98925064'\n",
    "url = f'https://www.ceneo.pl/{product_id}#tab=reviews'\n",
    "all_opinions = []\n",
    "while url:\n",
    "    response = requests.get(url, headers=headers)\n",
    "    if response.status_code == 200:\n",
    "        soup = BeautifulSoup(response.text, \"html.parser\")\n",
    "        opinions = soup.select(\"div.js_product-review:not(.user-post--highlight)\")\n",
    "        for opinion in opinions:\n",
    "            single_opinion= {}\n",
    "            single_opinion['opinion_id'] = opinion['data-entry-id']\n",
    "            single_opinion['author'] = opinion.select_one('span.user-post__author-name').text.strip()\n",
    "            try:\n",
    "                single_opinion['recommend'] = opinion.select_one('span.user-post__author-recomendation > em.recommended').text.strip()\n",
    "            except AttributeError:\n",
    "                single_opinion['recommend'] = None\n",
    "            single_opinion['stars'] = opinion.select_one('span.user-post__score-count').text.strip()\n",
    "            single_opinion['content'] = opinion.select_one('div.user-post__text').text.strip()\n",
    "            single_opinion['pros'] = [tag.text for tag in opinion.select('div.review-feature__item--positive')]\n",
    "            single_opinion['cons'] = [tag.text for tag in opinion.select('div.review-feature__item--negative')]\n",
    "            single_opinion['helpful'] = opinion.select_one('button.vote-yes')[\"data-total-vote\"].strip()\n",
    "            single_opinion['unhelpful'] = opinion.select_one('button.vote-no')[\"data-total-vote\"].strip()\n",
    "            single_opinion['published'] = opinion.select_one(\"span.user-post__published > time:nth-child(1)\")['datetime'].strip()\n",
    "            try:\n",
    "                single_opinion['purchased'] = opinion.select_one(\"span.user-post__published > time:nth-child(2)\")['datetime'].strip()\n",
    "            except TypeError:\n",
    "                single_opinion['purchased'] = None\n",
    "            all_opinions.append(single_opinion)\n",
    "    try:\n",
    "        url ='https://www.ceneo.pl' + soup.select_one('a.pagination__next')['href']\n",
    "    except TypeError:\n",
    "        url = None\n"
   ]
  },
  {
   "cell_type": "code",
   "execution_count": 16,
   "metadata": {},
   "outputs": [],
   "source": [
    "if not os.path.exists('./opinions'):\n",
    "    os.mkdir('./opinions')\n"
   ]
  },
  {
   "cell_type": "code",
   "execution_count": 17,
   "metadata": {},
   "outputs": [],
   "source": [
    "with open(f'./opinions/{product_id}.json', 'w', encoding='UTF-8') as f:\n",
    "    json.dump(all_opinions, f, indent=4, ensure_ascii=False)"
   ]
  }
 ],
 "metadata": {
  "kernelspec": {
   "display_name": ".venv",
   "language": "python",
   "name": "python3"
  },
  "language_info": {
   "codemirror_mode": {
    "name": "ipython",
    "version": 3
   },
   "file_extension": ".py",
   "mimetype": "text/x-python",
   "name": "python",
   "nbconvert_exporter": "python",
   "pygments_lexer": "ipython3",
   "version": "3.11.4"
  }
 },
 "nbformat": 4,
 "nbformat_minor": 2
}
