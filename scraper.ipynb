{
 "cells": [
  {
   "cell_type": "markdown",
   "metadata": {},
   "source": [
    "1. Access the first page of the product using requests"
   ]
  },
  {
   "cell_type": "code",
   "execution_count": 1,
   "metadata": {},
   "outputs": [],
   "source": [
    "import requests\n",
    "from bs4 import BeautifulSoup\n",
    "import json\n",
    "import os\n",
    "from deep_translator import GoogleTranslator\n",
    "import datetime"
   ]
  },
  {
   "cell_type": "markdown",
   "metadata": {},
   "source": [
    "### Utils\n"
   ]
  },
  {
   "cell_type": "code",
   "execution_count": 2,
   "metadata": {},
   "outputs": [],
   "source": [
    "def extract(ancestor, selector=None, attribute=None, multiple=False):\n",
    "    if selector:        \n",
    "        if multiple:\n",
    "            if attribute:\n",
    "                return [tag[attribute].strip() for tag in ancestor.select(selector)]\n",
    "            return [tag.text.strip() for tag in ancestor.select(selector)]\n",
    "        if attribute:\n",
    "            try:\n",
    "                return ancestor.select_one(selector)[attribute].strip()\n",
    "            except TypeError:\n",
    "                return None\n",
    "        try:\n",
    "            return ancestor.select_one(selector).text.strip()\n",
    "        except AttributeError:\n",
    "            return None\n",
    "    if attribute:\n",
    "        return ancestor[attribute]\n",
    "    return ancestor.text.strip()\n",
    "    "
   ]
  },
  {
   "cell_type": "code",
   "execution_count": 3,
   "metadata": {},
   "outputs": [],
   "source": [
    "selectors = {\n",
    "'opinion_id': (None, 'data-entry-id',),\n",
    "'author': ('span.user-post__author-name',),\n",
    "'recommend' :('span.user-post__author-recomendation > em.recommended',),\n",
    "'stars' :('span.user-post__score-count',),\n",
    "'content_pl' :('div.user-post__text',),\n",
    "'pros_pl' :('div.review-feature__item--positive', None, True),\n",
    "'cons_pl' :('div.review-feature__item--negative', None, True),\n",
    "'helpful' :('button.vote-yes', \"data-total-vote\"),\n",
    "'unhelpful' :('button.vote-no', \"data-total-vote\"),\n",
    "'published' :(\"span.user-post__published > time:nth-child(1)\", 'datetime'),\n",
    "'purchased' :(\"span.user-post__published > time:nth-child(2)\", 'datetime')\n",
    "}"
   ]
  },
  {
   "cell_type": "code",
   "execution_count": 4,
   "metadata": {},
   "outputs": [],
   "source": [
    "def translate(text, source='pl', target='en'):\n",
    "    return GoogleTranslator(source, target).translate(text=text)"
   ]
  },
  {
   "cell_type": "markdown",
   "metadata": {},
   "source": [
    "### Extraction start here "
   ]
  },
  {
   "cell_type": "code",
   "execution_count": 6,
   "metadata": {},
   "outputs": [],
   "source": [
    "with open(\"./cookie.json\", 'r', encoding='UTF-8') as f:\n",
    "    headers = json.load(f)"
   ]
  },
  {
   "cell_type": "code",
   "execution_count": 13,
   "metadata": {},
   "outputs": [],
   "source": [
    "product_id = input(\"Please enter product id\")\n",
    "url = f'https://www.ceneo.pl/{product_id}#tab=reviews'\n",
    "all_opinions = []\n",
    "while url:\n",
    "    response = requests.get(url, headers=headers)\n",
    "    if response.status_code == 200:\n",
    "        soup = BeautifulSoup(response.text, \"html.parser\")\n",
    "        opinions = soup.select(\"div.js_product-review:not(.user-post--highlight)\")\n",
    "        for opinion in opinions:\n",
    "            single_opinion= {\n",
    "                key: extract(opinion, *values)\n",
    "                for key, values in selectors.items()\n",
    "            }\n",
    "            single_opinion['content_en'] = translate(single_opinion['content_pl'])\n",
    "            single_opinion['pros_en'] = [translate(pros) for pros in single_opinion['pros_pl']]    \n",
    "            single_opinion['cons_en'] = [translate(cons) for cons in single_opinion['cons_pl']]  \n",
    "            single_opinion['recommend'] = True if single_opinion['recommend'] == \"Polecam\" else False if single_opinion['recommend'] == \"Nie Polecam\" else None        \n",
    "            single_opinion['stars'] = float(single_opinion['stars'].split('/')[0].replace(',', '.'))   \n",
    "            single_opinion['helpful'] = int(single_opinion['helpful'])\n",
    "            single_opinion['unhelpful'] = int(single_opinion['unhelpful'])\n",
    "            all_opinions.append(single_opinion)\n",
    "    try:\n",
    "        url ='https://www.ceneo.pl' + soup.select_one(\"link[rel='next']\")['href']\n",
    "    except TypeError:\n",
    "        url = None\n"
   ]
  },
  {
   "cell_type": "code",
   "execution_count": 15,
   "metadata": {},
   "outputs": [],
   "source": [
    "if not os.path.exists('./opinions'):\n",
    "    os.mkdir('./opinions')\n",
    "if not os.path.exists('./piecharts'):\n",
    "    os.mkdir('./piecharts')\n",
    "if not os.path.exists('./barcharts'):\n",
    "    os.mkdir('./barcharts')\n",
    "    \n"
   ]
  },
  {
   "cell_type": "code",
   "execution_count": 14,
   "metadata": {},
   "outputs": [],
   "source": [
    "with open(f'./opinions/{product_id}.json', 'w', encoding='UTF-8') as f:\n",
    "    json.dump(all_opinions, f, indent=4, ensure_ascii=False)"
   ]
  }
 ],
 "metadata": {
  "kernelspec": {
   "display_name": ".venv",
   "language": "python",
   "name": "python3"
  },
  "language_info": {
   "codemirror_mode": {
    "name": "ipython",
    "version": 3
   },
   "file_extension": ".py",
   "mimetype": "text/x-python",
   "name": "python",
   "nbconvert_exporter": "python",
   "pygments_lexer": "ipython3",
   "version": "3.11.4"
  }
 },
 "nbformat": 4,
 "nbformat_minor": 2
}
