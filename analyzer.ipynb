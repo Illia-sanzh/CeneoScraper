{
 "cells": [
  {
   "cell_type": "markdown",
   "metadata": {},
   "source": [
    "### Imports"
   ]
  },
  {
   "cell_type": "code",
   "execution_count": null,
   "metadata": {},
   "outputs": [],
   "source": [
    "import os\n",
    "import pandas as pd\n",
    "import numpy as np\n",
    "from matplotlib import pyplot as plt"
   ]
  },
  {
   "cell_type": "code",
   "execution_count": null,
   "metadata": {},
   "outputs": [],
   "source": [
    "\n",
    "def hex_to_RGB(hex_str):\n",
    "    \"\"\" #FFFFFF -> [255,255,255]\"\"\"\n",
    "    #Pass 16 to the integer function for change of base\n",
    "    return [int(hex_str[i:i+2], 16) for i in range(1,6,2)]"
   ]
  },
  {
   "cell_type": "code",
   "execution_count": null,
   "metadata": {},
   "outputs": [],
   "source": [
    "def get_color_gradient(c1, c2, n):\n",
    "    \"\"\"\n",
    "    Given two hex colors, returns a color gradient\n",
    "    with n colors.\n",
    "    \"\"\"\n",
    "    assert n > 1\n",
    "    c1_rgb = np.array(hex_to_RGB(c1))/255\n",
    "    c2_rgb = np.array(hex_to_RGB(c2))/255\n",
    "    mix_pcts = [x/(n-1) for x in range(n)]\n",
    "    rgb_colors = [((1-mix)*c1_rgb + (mix*c2_rgb)) for mix in mix_pcts]\n",
    "    return [\"#\" + \"\".join([format(int(round(val*255)), \"02x\") for val in item]) for item in rgb_colors]"
   ]
  },
  {
   "cell_type": "markdown",
   "metadata": {},
   "source": []
  },
  {
   "cell_type": "code",
   "execution_count": null,
   "metadata": {},
   "outputs": [],
   "source": [
    "print(*[filename.split('.')[0] for filename in os.listdir('./opinions')], sep='\\n')"
   ]
  },
  {
   "cell_type": "code",
   "execution_count": null,
   "metadata": {},
   "outputs": [],
   "source": [
    "product_id = input(\"Please enter product id\")"
   ]
  },
  {
   "cell_type": "code",
   "execution_count": null,
   "metadata": {},
   "outputs": [],
   "source": [
    "opinions = pd.read_json(f'./opinions/{product_id}.json')\n",
    "opinions"
   ]
  },
  {
   "cell_type": "markdown",
   "metadata": {},
   "source": [
    "### Calculating basic statistics\n"
   ]
  },
  {
   "cell_type": "code",
   "execution_count": null,
   "metadata": {},
   "outputs": [],
   "source": [
    "opinions_count = len(opinions)\n",
    "pros_count = opinions.pros_pl.astype(bool).sum()\n",
    "cons_count = opinions.cons_pl.astype(bool).sum()\n",
    "pros_cons_count = opinions.apply(lambda o: bool(o.pros_pl) and bool(o.cons_pl), axis=1).sum()\n",
    "average_score = opinions.stars.mean()\n",
    "print(f\"Number of opinions about the product: {opinions_count}\")\n",
    "print(f\"Number of opinions in which advantages have been listed: {pros_count}\")\n",
    "print(f\"Number of opinions in which disadvantages have been listed: {cons_count}\")\n",
    "print(f\"Number of opinions in which both advantages and disadvantages have been listed: {cons_count}\")\n",
    "print(f\"Average score: {average_score:.2f}\")"
   ]
  },
  {
   "cell_type": "code",
   "execution_count": null,
   "metadata": {},
   "outputs": [],
   "source": [
    "pros = opinions.pros_en.explode().value_counts()\n",
    "cons = opinions.cons_en.explode().value_counts()\n",
    "print(pros)\n",
    "print(cons)"
   ]
  },
  {
   "cell_type": "code",
   "execution_count": null,
   "metadata": {},
   "outputs": [],
   "source": [
    "recommendations = opinions.recommend.value_counts(dropna=False).reindex([True, False, np.nan], fill_value=0)\n",
    "recommendations"
   ]
  },
  {
   "cell_type": "code",
   "execution_count": null,
   "metadata": {},
   "outputs": [],
   "source": [
    "recommendations.plot.pie(\n",
    "    autopct = lambda r: f\"{r:.1f}%\" if r>0 else '' ,\n",
    "    label='',\n",
    "    colors  = ['forestgreen', 'red', 'blue'],\n",
    "    labels=['Recommend', 'Not recommend', 'No opinion']\n",
    ")\n",
    "plt.title(f\"Recommendations for product id: {product_id}\\nNumber of opinions: {opinions_count}\")\n",
    "plt.savefig(f\"./piecharts/{product_id}.png\")\n",
    "plt.close()"
   ]
  },
  {
   "cell_type": "code",
   "execution_count": null,
   "metadata": {},
   "outputs": [],
   "source": [
    "stars = opinions.stars.value_counts().reindex(list(np.arange(0.5,5.5,0.5)), fill_value=0)\n",
    "stars"
   ]
  },
  {
   "cell_type": "code",
   "execution_count": 82,
   "metadata": {},
   "outputs": [],
   "source": [
    "color1='#FF0000'\n",
    "color2='#0000FF'\n",
    "plt.figure(figsize=(7,6))\n",
    "ax = stars.plot.bar(color = get_color_gradient(color1,color2,15))\n",
    "plt.bar_label(container=ax.containers[0])\n",
    "plt.xlabel(\"Number of stars\")\n",
    "plt.ylabel(\"Number of opinions\")\n",
    "plt.title(f\"Number of opinions about product:{product_id}\\n with particular\")\n",
    "plt.xticks(rotation=0)\n",
    "plt.savefig(f\"./barcharts/{product_id}.png\")\n",
    "plt.close()"
   ]
  }
 ],
 "metadata": {
  "kernelspec": {
   "display_name": ".venv",
   "language": "python",
   "name": "python3"
  },
  "language_info": {
   "codemirror_mode": {
    "name": "ipython",
    "version": 3
   },
   "file_extension": ".py",
   "mimetype": "text/x-python",
   "name": "python",
   "nbconvert_exporter": "python",
   "pygments_lexer": "ipython3",
   "version": "3.11.4"
  }
 },
 "nbformat": 4,
 "nbformat_minor": 2
}
